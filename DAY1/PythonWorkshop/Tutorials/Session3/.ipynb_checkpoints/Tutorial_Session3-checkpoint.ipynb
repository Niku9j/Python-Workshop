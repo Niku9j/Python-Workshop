{
 "cells": [
  {
   "cell_type": "markdown",
   "metadata": {},
   "source": [
    "# Tuples and Dictionaries"
   ]
  },
  {
   "cell_type": "markdown",
   "metadata": {},
   "source": [
    "---\n",
    "## <font color= blue > Tuples </font>\n",
    "* A tuple is an ordered sequence of objects. \n",
    "* A tuple may be specified by enclosing in the parentheses, the elements of the tuple (possibly of heterogeneous types), separated by commas."
   ]
  },
  {
   "cell_type": "code",
   "execution_count": 6,
   "metadata": {},
   "outputs": [],
   "source": [
    "myTuple = (4, 6, [2, 8], 'abc', {3, 4})"
   ]
  },
  {
   "cell_type": "code",
   "execution_count": 11,
   "metadata": {},
   "outputs": [],
   "source": [
    "digits = (0, 1, 2, 3, 4, 5, 6, 7, 8, 9)"
   ]
  },
  {
   "cell_type": "code",
   "execution_count": 12,
   "metadata": {},
   "outputs": [],
   "source": [
    "subjects = ('Physics', 'Chemistry', 'Computer Science')"
   ]
  },
  {
   "cell_type": "code",
   "execution_count": 13,
   "metadata": {},
   "outputs": [],
   "source": [
    "months = ((1, 'January'), (2, 'February'), (3, 'March'))"
   ]
  },
  {
   "cell_type": "markdown",
   "metadata": {},
   "source": [
    "* If a tuple comprises a single element, the element should be followed by a comma to distinguish a tuple from a parenthesized expression.\n",
    "* A tuple having a single element is also known as singleton tuple."
   ]
  },
  {
   "cell_type": "markdown",
   "metadata": {},
   "source": [
    "* Tuples being **immutable**, an attempt to modify an element of a tuple yields an error."
   ]
  },
  {
   "cell_type": "code",
   "execution_count": 14,
   "metadata": {
    "scrolled": true
   },
   "outputs": [
    {
     "ename": "TypeError",
     "evalue": "'tuple' object does not support item assignment",
     "output_type": "error",
     "traceback": [
      "\u001b[1;31m---------------------------------------------------------------------------\u001b[0m",
      "\u001b[1;31mTypeError\u001b[0m                                 Traceback (most recent call last)",
      "\u001b[1;32m<ipython-input-14-93313e5806a7>\u001b[0m in \u001b[0;36m<module>\u001b[1;34m()\u001b[0m\n\u001b[1;32m----> 1\u001b[1;33m \u001b[0mdigits\u001b[0m\u001b[1;33m[\u001b[0m\u001b[1;36m1\u001b[0m\u001b[1;33m]\u001b[0m \u001b[1;33m=\u001b[0m \u001b[1;36m3\u001b[0m\u001b[1;33m\u001b[0m\u001b[0m\n\u001b[0m",
      "\u001b[1;31mTypeError\u001b[0m: 'tuple' object does not support item assignment"
     ]
    }
   ],
   "source": [
    "digits[1] = 3"
   ]
  },
  {
   "cell_type": "markdown",
   "metadata": {},
   "source": [
    "## <font color= blue > Tuple Operations </font>"
   ]
  },
  {
   "cell_type": "code",
   "execution_count": 15,
   "metadata": {},
   "outputs": [],
   "source": [
    "weekDays = ('Monday', 'Tuesday')\n",
    "marks = (78, 99, 34, 45)\n",
    "dateOfBirth = (1, 'October', 1990)"
   ]
  },
  {
   "cell_type": "markdown",
   "metadata": {},
   "source": [
    "### <font color= green > Multiplication Operator * </font>"
   ]
  },
  {
   "cell_type": "code",
   "execution_count": 16,
   "metadata": {},
   "outputs": [
    {
     "data": {
      "text/plain": [
       "('Monday', 'Tuesday', 'Monday', 'Tuesday')"
      ]
     },
     "execution_count": 16,
     "metadata": {},
     "output_type": "execute_result"
    }
   ],
   "source": [
    "weekDays * 2"
   ]
  },
  {
   "cell_type": "markdown",
   "metadata": {},
   "source": [
    "### <font color= green > Concatenation Operator + </font>"
   ]
  },
  {
   "cell_type": "code",
   "execution_count": 17,
   "metadata": {},
   "outputs": [
    {
     "name": "stdout",
     "output_type": "stream",
     "text": [
      "('Monday', 'Tuesday', 'Wednesday')\n"
     ]
    }
   ],
   "source": [
    "weekDays = weekDays + ('Wednesday',)\n",
    "print(weekDays)"
   ]
  },
  {
   "cell_type": "markdown",
   "metadata": {},
   "source": [
    "### <font color= green > Length Operator len </font>"
   ]
  },
  {
   "cell_type": "code",
   "execution_count": 18,
   "metadata": {},
   "outputs": [
    {
     "data": {
      "text/plain": [
       "3"
      ]
     },
     "execution_count": 18,
     "metadata": {},
     "output_type": "execute_result"
    }
   ],
   "source": [
    "len(weekDays)"
   ]
  },
  {
   "cell_type": "markdown",
   "metadata": {},
   "source": [
    "### <font color= green > Indexing & Slicing </font>"
   ]
  },
  {
   "cell_type": "code",
   "execution_count": 19,
   "metadata": {},
   "outputs": [
    {
     "name": "stdout",
     "output_type": "stream",
     "text": [
      "1990\n"
     ]
    }
   ],
   "source": [
    "yearOfBirth = dateOfBirth[-1] #Indexing\n",
    "print(yearOfBirth)"
   ]
  },
  {
   "cell_type": "code",
   "execution_count": 20,
   "metadata": {},
   "outputs": [
    {
     "data": {
      "text/plain": [
       "('Tuesday',)"
      ]
     },
     "execution_count": 20,
     "metadata": {},
     "output_type": "execute_result"
    }
   ],
   "source": [
    "weekDays[1:2] #Slicing"
   ]
  },
  {
   "cell_type": "markdown",
   "metadata": {},
   "source": [
    "### <font color= green > Function min & max </font>"
   ]
  },
  {
   "cell_type": "code",
   "execution_count": 21,
   "metadata": {},
   "outputs": [
    {
     "data": {
      "text/plain": [
       "34"
      ]
     },
     "execution_count": 21,
     "metadata": {},
     "output_type": "execute_result"
    }
   ],
   "source": [
    "min(marks)"
   ]
  },
  {
   "cell_type": "code",
   "execution_count": 22,
   "metadata": {},
   "outputs": [
    {
     "data": {
      "text/plain": [
       "99"
      ]
     },
     "execution_count": 22,
     "metadata": {},
     "output_type": "execute_result"
    }
   ],
   "source": [
    "max(marks)"
   ]
  },
  {
   "cell_type": "markdown",
   "metadata": {},
   "source": [
    "### <font color= green > Function sum </font>"
   ]
  },
  {
   "cell_type": "code",
   "execution_count": 23,
   "metadata": {},
   "outputs": [
    {
     "data": {
      "text/plain": [
       "256"
      ]
     },
     "execution_count": 23,
     "metadata": {},
     "output_type": "execute_result"
    }
   ],
   "source": [
    "sum(marks)"
   ]
  },
  {
   "cell_type": "markdown",
   "metadata": {},
   "source": [
    "### <font color= green > Membership Operator in </font>"
   ]
  },
  {
   "cell_type": "code",
   "execution_count": 24,
   "metadata": {},
   "outputs": [
    {
     "data": {
      "text/plain": [
       "False"
      ]
     },
     "execution_count": 24,
     "metadata": {},
     "output_type": "execute_result"
    }
   ],
   "source": [
    "'Friday' in weekDays"
   ]
  },
  {
   "cell_type": "markdown",
   "metadata": {},
   "source": [
    "### <font color= green > Function tuple </font>\n",
    "* The function tuple can be used to convert a sequence to a tuple."
   ]
  },
  {
   "cell_type": "code",
   "execution_count": 25,
   "metadata": {},
   "outputs": [
    {
     "data": {
      "text/plain": [
       "('a', 'e', 'i', 'o', 'u')"
      ]
     },
     "execution_count": 25,
     "metadata": {},
     "output_type": "execute_result"
    }
   ],
   "source": [
    "vowels = 'aeiou'\n",
    "tuple(vowels)"
   ]
  },
  {
   "cell_type": "markdown",
   "metadata": {},
   "source": [
    "## <font color= blue > **Built-in Functions on Tuples** </font>\n"
   ]
  },
  {
   "cell_type": "markdown",
   "metadata": {},
   "source": [
    "### <font color= green > Function count </font>\n",
    "* Returns count of occurrences of an element in the tuple."
   ]
  },
  {
   "cell_type": "code",
   "execution_count": 26,
   "metadata": {},
   "outputs": [
    {
     "name": "stdout",
     "output_type": "stream",
     "text": [
      "3\n"
     ]
    }
   ],
   "source": [
    "age = (20, 18, 17, 19, 18, 18)\n",
    "print(age.count(18))"
   ]
  },
  {
   "cell_type": "markdown",
   "metadata": {},
   "source": [
    "### <font color= green > Function index </font>\n",
    "* Returns index of the first occurrence of an element in the tuple."
   ]
  },
  {
   "cell_type": "code",
   "execution_count": 27,
   "metadata": {},
   "outputs": [
    {
     "data": {
      "text/plain": [
       "1"
      ]
     },
     "execution_count": 27,
     "metadata": {},
     "output_type": "execute_result"
    }
   ],
   "source": [
    "age.index(18)"
   ]
  },
  {
   "cell_type": "markdown",
   "metadata": {},
   "source": [
    "## <font color= blue > Problem: Sort list of tuples </font>"
   ]
  },
  {
   "cell_type": "code",
   "execution_count": 28,
   "metadata": {},
   "outputs": [
    {
     "name": "stdout",
     "output_type": "stream",
     "text": [
      "Enter the number of students:4\n",
      "Enter tuple <student name, marks>('Sheetal',99)\n",
      "Enter tuple <student name, marks>('Ankit',100)\n",
      "Enter tuple <student name, marks>('Arun',56)\n",
      "Enter tuple <student name, marks>('Bhawna',89)\n",
      "[('Arun', 56), ('Bhawna', 89), ('Sheetal', 99), ('Ankit', 100)]\n"
     ]
    }
   ],
   "source": [
    "def sortList(studentList):\n",
    "    '''\n",
    "    Objective: To sort a given list of tuples in increasing order on the basis \n",
    "               of marks.\n",
    "    Input Parameter: studentList: a list of tuples such that each tuple \n",
    "                     contains student names and their marks\n",
    "    Return Value: studentList: sorted list\n",
    "    '''\n",
    "    '''\n",
    "    Approach:\n",
    "        Use bubble sort.\n",
    "        Starting from the first element (tuple), compare two consecutive elements \n",
    "        of the list and swap the two if marks in second element is smaller than the \n",
    "        marks in first element. At the end of first iteration, smallest element in \n",
    "        the list will come in the beginning. If there are n elements, the above \n",
    "        procedure will repeat n-1 times\n",
    "    '''\n",
    "\n",
    "    for i in range(0, len(studentList) - 1):\n",
    "        for j in range(0, len(studentList) - 1 - i):\n",
    "            if studentList[j+1][1] < studentList[j][1]:\n",
    "                studentList[j+1], studentList[j] = studentList[j], studentList[j+1]\n",
    "    return studentList\n",
    "\n",
    "def main():\n",
    "    '''\n",
    "    Objective: To call a function sortList to sort a given list of tuples in \n",
    "    increasing order on the basis of marks provided as input.\n",
    "    Input Parameter: None\n",
    "    Return Value: None\n",
    "    '''\n",
    "    #studentList = [('Rohit', 50), ('Deepak', 75), ('Sonali', 47)]\n",
    "    studentList = []\n",
    "    num = int(input('Enter the number of students:'))\n",
    "    for i in range(num):\n",
    "        pair = eval(input('Enter tuple <student name, marks>'))\n",
    "        studentList.append(pair)\n",
    "    sortList(studentList)\n",
    "    print(studentList)\n",
    "\n",
    "if __name__ == '__main__':\n",
    "    main()"
   ]
  },
  {
   "cell_type": "markdown",
   "metadata": {},
   "source": [
    "---\n",
    "## <font color= blue > Dictionaries </font>\n",
    "* A dictionary is an unordered sequence of key-value pairs. \n",
    "* Key and value in a key-value pair in a dictionary are separated by a colon. Further, <br> \n",
    "  the key:value pairs in a dictionary are separated by commas and are enclosed between <br>\n",
    "  curly parentheses.\n",
    "* Indices in a dictionary can be of any immutable type and are called keys."
   ]
  },
  {
   "cell_type": "code",
   "execution_count": 29,
   "metadata": {},
   "outputs": [
    {
     "name": "stdout",
     "output_type": "stream",
     "text": [
      "{1: 'Jan', 2: 'Feb', 3: 'Mar', 4: 'Apr'}\n"
     ]
    }
   ],
   "source": [
    "month = {}\n",
    "month[1] = 'Jan'\n",
    "month[2] = 'Feb'\n",
    "month[3] = 'Mar'\n",
    "month[4] = 'Apr'\n",
    "print(month)"
   ]
  },
  {
   "cell_type": "markdown",
   "metadata": {},
   "source": [
    "* The search in a dictionary is based on the key. \n",
    "* Therefore, in a dictionary, the keys are required to be unique. However, the same value may be associated with multiple keys. "
   ]
  },
  {
   "cell_type": "code",
   "execution_count": 30,
   "metadata": {},
   "outputs": [],
   "source": [
    "price = {'tomato':40, 'cucumber':30,\n",
    "'potato':20, 'cauliflower':70, 'cabbage':50,\n",
    "'lettuce':40, 'raddish':30, 'carrot':20,\n",
    "'peas':80}"
   ]
  },
  {
   "cell_type": "markdown",
   "metadata": {},
   "source": [
    "* Values associated with keys can be mutable objects and thus, may be changed at will."
   ]
  },
  {
   "cell_type": "code",
   "execution_count": 31,
   "metadata": {},
   "outputs": [],
   "source": [
    "price['tomato'] = 25"
   ]
  },
  {
   "cell_type": "markdown",
   "metadata": {},
   "source": [
    "* Keys in a dictionary may be of heterogeneous types"
   ]
  },
  {
   "cell_type": "code",
   "execution_count": 32,
   "metadata": {},
   "outputs": [],
   "source": [
    "counting = {1:'one', 'one':1, 2:'two', 'two':2}"
   ]
  },
  {
   "cell_type": "markdown",
   "metadata": {},
   "source": [
    "## <font color= blue > Dictionary Operations </font>"
   ]
  },
  {
   "cell_type": "code",
   "execution_count": 33,
   "metadata": {},
   "outputs": [],
   "source": [
    "digits = {0:'Zero', 1:'One', 2:'Two', 3:'Three', 4:'Four', 5:'Five', 6:'Six', 7:'Seven', 8:'Eight', 9:'Nine'}"
   ]
  },
  {
   "cell_type": "markdown",
   "metadata": {},
   "source": [
    "### <font color= green > length Operator len </font>"
   ]
  },
  {
   "cell_type": "code",
   "execution_count": 34,
   "metadata": {},
   "outputs": [
    {
     "data": {
      "text/plain": [
       "10"
      ]
     },
     "execution_count": 34,
     "metadata": {},
     "output_type": "execute_result"
    }
   ],
   "source": [
    "len(digits)"
   ]
  },
  {
   "cell_type": "markdown",
   "metadata": {},
   "source": [
    "### <font color= green > Indexing </font>"
   ]
  },
  {
   "cell_type": "code",
   "execution_count": 35,
   "metadata": {},
   "outputs": [
    {
     "data": {
      "text/plain": [
       "'One'"
      ]
     },
     "execution_count": 35,
     "metadata": {},
     "output_type": "execute_result"
    }
   ],
   "source": [
    "digits[1]"
   ]
  },
  {
   "cell_type": "markdown",
   "metadata": {},
   "source": [
    "### <font color= green > Functions min and max</font>"
   ]
  },
  {
   "cell_type": "code",
   "execution_count": 36,
   "metadata": {},
   "outputs": [
    {
     "data": {
      "text/plain": [
       "0"
      ]
     },
     "execution_count": 36,
     "metadata": {},
     "output_type": "execute_result"
    }
   ],
   "source": [
    "min(digits)"
   ]
  },
  {
   "cell_type": "code",
   "execution_count": 37,
   "metadata": {},
   "outputs": [
    {
     "data": {
      "text/plain": [
       "9"
      ]
     },
     "execution_count": 37,
     "metadata": {},
     "output_type": "execute_result"
    }
   ],
   "source": [
    "max(digits)"
   ]
  },
  {
   "cell_type": "markdown",
   "metadata": {},
   "source": [
    "### <font color= green > Function sum</font>"
   ]
  },
  {
   "cell_type": "code",
   "execution_count": 38,
   "metadata": {},
   "outputs": [
    {
     "data": {
      "text/plain": [
       "45"
      ]
     },
     "execution_count": 38,
     "metadata": {},
     "output_type": "execute_result"
    }
   ],
   "source": [
    "sum(digits)"
   ]
  },
  {
   "cell_type": "markdown",
   "metadata": {},
   "source": [
    "### <font color= green > Membership Opeartor in</font>"
   ]
  },
  {
   "cell_type": "code",
   "execution_count": 39,
   "metadata": {},
   "outputs": [
    {
     "data": {
      "text/plain": [
       "True"
      ]
     },
     "execution_count": 39,
     "metadata": {},
     "output_type": "execute_result"
    }
   ],
   "source": [
    "5 in digits"
   ]
  },
  {
   "cell_type": "code",
   "execution_count": 40,
   "metadata": {},
   "outputs": [
    {
     "data": {
      "text/plain": [
       "False"
      ]
     },
     "execution_count": 40,
     "metadata": {},
     "output_type": "execute_result"
    }
   ],
   "source": [
    "'Five' in digits"
   ]
  },
  {
   "cell_type": "markdown",
   "metadata": {},
   "source": [
    "**<font color= red > Note: Membership operation in, and functions min, max and sum apply\n",
    "only to the keys in a dictionary. </font>**"
   ]
  },
  {
   "cell_type": "markdown",
   "metadata": {},
   "source": [
    "### <font color= green >Deleting a key-value pair from dictionary</font>"
   ]
  },
  {
   "cell_type": "code",
   "execution_count": 41,
   "metadata": {},
   "outputs": [
    {
     "name": "stdout",
     "output_type": "stream",
     "text": [
      "{12: 'December', 1: 'January', 2: 'February'}\n"
     ]
    }
   ],
   "source": [
    "winter = {11:'November ', 12: 'December', 1:'January', 2:'February'}\n",
    "del winter[11]\n",
    "print(winter)"
   ]
  },
  {
   "cell_type": "markdown",
   "metadata": {},
   "source": [
    "## <font color= blue > **Built-in Functions on Dictionaries** </font>\n"
   ]
  },
  {
   "cell_type": "markdown",
   "metadata": {},
   "source": [
    "### <font color= green >Deleting all key-value pairs using clear function</font>"
   ]
  },
  {
   "cell_type": "code",
   "execution_count": 42,
   "metadata": {},
   "outputs": [
    {
     "name": "stdout",
     "output_type": "stream",
     "text": [
      "{}\n"
     ]
    }
   ],
   "source": [
    "winter.clear()\n",
    "print(winter)"
   ]
  },
  {
   "cell_type": "markdown",
   "metadata": {},
   "source": [
    "### <font color= green >Function get</font>\n",
    "* The function get is used to extract the value corresponding to a given key\n",
    "* The first parameter is used to specify the key and the second parameter is used to specify the value to be returned in case the key is not found in the dictionary. In case, the second parameter is not specified, the system returns None"
   ]
  },
  {
   "cell_type": "code",
   "execution_count": 43,
   "metadata": {},
   "outputs": [],
   "source": [
    "passwords = {'Ram':'ak@607', 'Shyam':'rou.589'}"
   ]
  },
  {
   "cell_type": "code",
   "execution_count": 44,
   "metadata": {},
   "outputs": [
    {
     "data": {
      "text/plain": [
       "'ak@607'"
      ]
     },
     "execution_count": 44,
     "metadata": {},
     "output_type": "execute_result"
    }
   ],
   "source": [
    "passwords.get('Ram',-1)"
   ]
  },
  {
   "cell_type": "code",
   "execution_count": 45,
   "metadata": {},
   "outputs": [
    {
     "data": {
      "text/plain": [
       "-1"
      ]
     },
     "execution_count": 45,
     "metadata": {},
     "output_type": "execute_result"
    }
   ],
   "source": [
    "passwords.get('Raman',-1)"
   ]
  },
  {
   "cell_type": "markdown",
   "metadata": {},
   "source": [
    "### <font color= green >Function update</font>\n",
    "* The function update is used to insert in a dictionary, all the key–value pairs of another dictionary"
   ]
  },
  {
   "cell_type": "code",
   "execution_count": 46,
   "metadata": {},
   "outputs": [],
   "source": [
    "morePasswords = {'Raman':'vi97@4', 'Kishore':'23@0jsk'}"
   ]
  },
  {
   "cell_type": "code",
   "execution_count": 47,
   "metadata": {},
   "outputs": [
    {
     "name": "stdout",
     "output_type": "stream",
     "text": [
      "{'Ram': 'ak@607', 'Shyam': 'rou.589', 'Raman': 'vi97@4', 'Kishore': '23@0jsk'}\n"
     ]
    }
   ],
   "source": [
    "passwords.update(morePasswords)\n",
    "print(passwords)"
   ]
  },
  {
   "cell_type": "markdown",
   "metadata": {},
   "source": [
    "### <font color= green >Function keys</font>\n",
    "* Return an object comprising of all keys of the dictionary."
   ]
  },
  {
   "cell_type": "code",
   "execution_count": 48,
   "metadata": {},
   "outputs": [
    {
     "name": "stdout",
     "output_type": "stream",
     "text": [
      "dict_keys([1, 2, 3, 4])\n"
     ]
    }
   ],
   "source": [
    "months = {1: 'Jan', 2: 'Feb', 3: 'Mar', 4: 'Apr'}\n",
    "print(months.keys())"
   ]
  },
  {
   "cell_type": "markdown",
   "metadata": {},
   "source": [
    "### <font color= green >Function values</font>\n",
    "* Return an object comprising of all values of the dictionary."
   ]
  },
  {
   "cell_type": "code",
   "execution_count": 49,
   "metadata": {},
   "outputs": [
    {
     "name": "stdout",
     "output_type": "stream",
     "text": [
      "dict_values(['Jan', 'Feb', 'Mar', 'Apr'])\n"
     ]
    }
   ],
   "source": [
    "print(months.values())"
   ]
  },
  {
   "cell_type": "markdown",
   "metadata": {},
   "source": [
    "### <font color= green >Function items</font>\n",
    "* Return an object comprising of tuples of key-value pairs present in the dictionary."
   ]
  },
  {
   "cell_type": "code",
   "execution_count": 50,
   "metadata": {},
   "outputs": [
    {
     "name": "stdout",
     "output_type": "stream",
     "text": [
      "dict_items([(1, 'Jan'), (2, 'Feb'), (3, 'Mar'), (4, 'Apr')])\n"
     ]
    }
   ],
   "source": [
    "print(months.items())"
   ]
  },
  {
   "cell_type": "markdown",
   "metadata": {},
   "source": [
    "## <font color= blue > Dictionary of state and its capitals </font>"
   ]
  },
  {
   "cell_type": "code",
   "execution_count": 51,
   "metadata": {},
   "outputs": [
    {
     "name": "stdout",
     "output_type": "stream",
     "text": [
      "Enter state:Goa\n",
      "Enter capital:Panaji\n",
      "Enter state:Haryana\n",
      "Enter capital:Chandigarh\n",
      "Enter state:\n",
      "Enter capital:\n",
      "{'Goa': 'Panaji', 'Haryana': 'Chandigarh'}\n"
     ]
    }
   ],
   "source": [
    "def stateCapitalDict():\n",
    "    '''\n",
    "    Purpose: To form a dictionary of state and its capital as specified by user.\n",
    "    Input Parameter: None\n",
    "    Return Value: stateCapital - Dictionary containing state as keys and capital \n",
    "                  as values\n",
    "    '''\n",
    "    '''\n",
    "    Approach:\n",
    "    For each state and capital taken as input from the user\n",
    "        Assign value capital to the key state\n",
    "    '''\n",
    "    stateCapital = dict()\n",
    "    state = input('Enter state:')\n",
    "    capital = input('Enter capital:')\n",
    "    while state != '' and capital != '':\n",
    "        stateCapital[state] = capital\n",
    "        state = input('Enter state:')\n",
    "        capital = input('Enter capital:')\n",
    "    return stateCapital\n",
    "\n",
    "def main():\n",
    "    '''\n",
    "    Purpose: To form a dictionary of state and its capital as specified by user.\n",
    "    Input Parameter: None\n",
    "    Return Value: None\n",
    "    '''\n",
    "    dict1 = stateCapitalDict()\n",
    "    print(dict1)\n",
    "\n",
    "if __name__ == '__main__':\n",
    "    main()"
   ]
  },
  {
   "cell_type": "code",
   "execution_count": null,
   "metadata": {},
   "outputs": [],
   "source": []
  }
 ],
 "metadata": {
  "celltoolbar": "Raw Cell Format",
  "kernelspec": {
   "display_name": "Python 3",
   "language": "python",
   "name": "python3"
  },
  "language_info": {
   "codemirror_mode": {
    "name": "ipython",
    "version": 3
   },
   "file_extension": ".py",
   "mimetype": "text/x-python",
   "name": "python",
   "nbconvert_exporter": "python",
   "pygments_lexer": "ipython3",
   "version": "3.6.4"
  }
 },
 "nbformat": 4,
 "nbformat_minor": 2
}
