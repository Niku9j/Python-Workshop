{
 "cells": [
  {
   "cell_type": "markdown",
   "metadata": {},
   "source": [
    "# <font color= blue > FILE HANDLING AND ERROR HANDLING </font>"
   ]
  },
  {
   "cell_type": "markdown",
   "metadata": {},
   "source": [
    "## <font color= blue > File Handling </font>\n",
    "* Files provide a means of communication between the program and the\n",
    "outside world. \n",
    "* A file is a stream of bytes, comprising data of\n",
    "interest.\n",
    "* **File Operations:**\n",
    "> * Reading from a file\n",
    "> * Writing to a file\n",
    "> * Append to a file\n",
    "> * Rename a file\n",
    "> * Delete a file\n"
   ]
  },
  {
   "cell_type": "markdown",
   "metadata": {},
   "source": [
    "### <font color= green > Opening a File </font>\n",
    "* Built-in function used: **open()**\n",
    "* This function takes the name of the file as the first argument. The second argument indicates the mode for accessing the file.\n",
    "* Modes for opening a file:\n",
    "    * read(r): to read the file\n",
    "    * write(w): to write to the file\n",
    "    * append(a): to write at the end of the file.\n",
    "    \n",
    "<br>Syntax:    <br>\n",
    "                \n",
    "     f = open(file_name, access_mode)\n",
    "                \n",
    "* Opening a non-existent file in w or a mode creates a new file with the given name\n",
    "* However, opening a non-existent file in r mode leads to an error.\n"
   ]
  },
  {
   "cell_type": "markdown",
   "metadata": {},
   "source": [
    "** Accessing attribute of an instance of class** <br>\n",
    "* To specify an attribute of a class (or class instance), we write the name of the class <br> (or class instance) followed by a dot, followed by the name of that attribute. <br>\n",
    "The method **lower** defined in class **str** has been invoked for the object **name**. "
   ]
  },
  {
   "cell_type": "code",
   "execution_count": 8,
   "metadata": {},
   "outputs": [],
   "source": [
    "f = open('PYTHON','w')"
   ]
  },
  {
   "cell_type": "markdown",
   "metadata": {},
   "source": [
    "### <font color= green > Writing to a File </font>\n",
    "* Built-in function used: **write()**\n",
    "* To use write function, specify name of the file object, followed by the dot operator (.), followed by the name of the function.\n",
    "* Note that apart from writing the given data into a file, the function write also returns the number of characters written into the file."
   ]
  },
  {
   "cell_type": "code",
   "execution_count": 9,
   "metadata": {},
   "outputs": [
    {
     "data": {
      "text/plain": [
       "40"
      ]
     },
     "execution_count": 9,
     "metadata": {},
     "output_type": "execute_result"
    }
   ],
   "source": [
    "f.write('''Python:\n",
    "Python is Simple.\n",
    "Simple syntax.''')"
   ]
  },
  {
   "cell_type": "markdown",
   "metadata": {},
   "source": [
    "### <font color= green > Reading a File </font>\n",
    "* Built-in function used: **read()**\n",
    "* To use read function, specify name of the file object, followed by the dot operator (.), followed by the name of the function\n",
    "* The read() function retrieves the contents of the entire file. "
   ]
  },
  {
   "cell_type": "code",
   "execution_count": 11,
   "metadata": {},
   "outputs": [
    {
     "ename": "UnsupportedOperation",
     "evalue": "not readable",
     "output_type": "error",
     "traceback": [
      "\u001b[1;31m---------------------------------------------------------------------------\u001b[0m",
      "\u001b[1;31mUnsupportedOperation\u001b[0m                      Traceback (most recent call last)",
      "\u001b[1;32m<ipython-input-11-99d52ada1abc>\u001b[0m in \u001b[0;36m<module>\u001b[1;34m()\u001b[0m\n\u001b[1;32m----> 1\u001b[1;33m \u001b[0mf\u001b[0m\u001b[1;33m.\u001b[0m\u001b[0mread\u001b[0m\u001b[1;33m(\u001b[0m\u001b[1;33m)\u001b[0m \u001b[1;31m#attempt to read file without read mode on.\u001b[0m\u001b[1;33m\u001b[0m\u001b[0m\n\u001b[0m",
      "\u001b[1;31mUnsupportedOperation\u001b[0m: not readable"
     ]
    }
   ],
   "source": [
    "f.read() #attempt to read file without read mode on."
   ]
  },
  {
   "cell_type": "code",
   "execution_count": 16,
   "metadata": {},
   "outputs": [
    {
     "data": {
      "text/plain": [
       "'Python:\\nPython is Simple.\\nSimple syntax.'"
      ]
     },
     "execution_count": 16,
     "metadata": {},
     "output_type": "execute_result"
    }
   ],
   "source": [
    "f = open('PYTHON','r')\n",
    "f.read()"
   ]
  },
  {
   "cell_type": "code",
   "execution_count": 17,
   "metadata": {},
   "outputs": [
    {
     "data": {
      "text/plain": [
       "''"
      ]
     },
     "execution_count": 17,
     "metadata": {},
     "output_type": "execute_result"
    }
   ],
   "source": [
    "f.read() # reading a file reached EOF yields empty string"
   ]
  },
  {
   "cell_type": "markdown",
   "metadata": {},
   "source": [
    "We can read a fixed number of bytes from the file by specifying the number of bytes as the argument to read function."
   ]
  },
  {
   "cell_type": "code",
   "execution_count": 18,
   "metadata": {},
   "outputs": [
    {
     "data": {
      "text/plain": [
       "'Python'"
      ]
     },
     "execution_count": 18,
     "metadata": {},
     "output_type": "execute_result"
    }
   ],
   "source": [
    "f = open('PYTHON','r')\n",
    "f.read(6)"
   ]
  },
  {
   "cell_type": "markdown",
   "metadata": {},
   "source": [
    "**Displaying the multi-line string using the print function**"
   ]
  },
  {
   "cell_type": "code",
   "execution_count": 19,
   "metadata": {},
   "outputs": [
    {
     "name": "stdout",
     "output_type": "stream",
     "text": [
      "Python:\n",
      "Python is Simple.\n",
      "Simple syntax.\n"
     ]
    }
   ],
   "source": [
    "f = open('PYTHON','r')\n",
    "print(f.read())"
   ]
  },
  {
   "cell_type": "markdown",
   "metadata": {},
   "source": [
    "### <font color= green > Function close </font>\n",
    "* When a file is no longer required for reading or writing, it should be closed by invoking the function close"
   ]
  },
  {
   "cell_type": "code",
   "execution_count": 20,
   "metadata": {},
   "outputs": [],
   "source": [
    "f.close()"
   ]
  },
  {
   "cell_type": "markdown",
   "metadata": {},
   "source": [
    "The function close also saves a file, which was opened for writing. Once\n",
    "a file is closed, it cannot be read or written any further unless it is opened\n",
    "again and an attempt to access the file results in an I/O (input/output) error:"
   ]
  },
  {
   "cell_type": "code",
   "execution_count": 21,
   "metadata": {},
   "outputs": [
    {
     "ename": "ValueError",
     "evalue": "I/O operation on closed file.",
     "output_type": "error",
     "traceback": [
      "\u001b[1;31m---------------------------------------------------------------------------\u001b[0m",
      "\u001b[1;31mValueError\u001b[0m                                Traceback (most recent call last)",
      "\u001b[1;32m<ipython-input-21-12657766d5ec>\u001b[0m in \u001b[0;36m<module>\u001b[1;34m()\u001b[0m\n\u001b[1;32m----> 1\u001b[1;33m \u001b[0mf\u001b[0m\u001b[1;33m.\u001b[0m\u001b[0mwrite\u001b[0m\u001b[1;33m(\u001b[0m\u001b[1;34m'Python was developed by Guido Van Rossum in 1991.'\u001b[0m\u001b[1;33m)\u001b[0m\u001b[1;33m\u001b[0m\u001b[0m\n\u001b[0m",
      "\u001b[1;31mValueError\u001b[0m: I/O operation on closed file."
     ]
    }
   ],
   "source": [
    "f.write('Python was developed by Guido Van Rossum in 1991.')"
   ]
  },
  {
   "cell_type": "markdown",
   "metadata": {},
   "source": [
    "### <font color= green > Functions readline and readlines </font>"
   ]
  },
  {
   "cell_type": "markdown",
   "metadata": {},
   "source": [
    "**readline** function: reads a stream of bytes beginning the current\n",
    "position until a newline character is encountered"
   ]
  },
  {
   "cell_type": "code",
   "execution_count": 22,
   "metadata": {},
   "outputs": [
    {
     "name": "stdout",
     "output_type": "stream",
     "text": [
      "line1: Python:\n",
      "\n",
      "line2: Python is Simple.\n",
      "\n",
      "line3: Simple syntax.\n",
      "line4: \n"
     ]
    }
   ],
   "source": [
    "f = open('PYTHON','r')\n",
    "line = f.readline()\n",
    "print('line1:', line)\n",
    "line = f.readline()\n",
    "print('line2:', line)\n",
    "line = f.readline()\n",
    "print('line3:', line)\n",
    "line = f.readline()\n",
    "print('line4:', line)\n",
    "f.close()"
   ]
  },
  {
   "cell_type": "markdown",
   "metadata": {},
   "source": [
    "**readlines** function: returns all the remaining lines of the file in the form of a list"
   ]
  },
  {
   "cell_type": "code",
   "execution_count": 23,
   "metadata": {},
   "outputs": [
    {
     "name": "stdout",
     "output_type": "stream",
     "text": [
      "['Python:\\n', 'Python is Simple.\\n', 'Simple syntax.']\n"
     ]
    }
   ],
   "source": [
    "f = open('PYTHON','r')\n",
    "lines = f.readlines()\n",
    "print(lines)\n",
    "f.close()"
   ]
  },
  {
   "cell_type": "markdown",
   "metadata": {},
   "source": [
    "### <font color= green > Function writelines </font>\n",
    "**writelines** function: takes a list of lines to be written in the file as an argument"
   ]
  },
  {
   "cell_type": "code",
   "execution_count": 24,
   "metadata": {},
   "outputs": [
    {
     "name": "stdout",
     "output_type": "stream",
     "text": [
      "Python:\n",
      "Python is simple.\n",
      "\n"
     ]
    }
   ],
   "source": [
    "f = open('PYTHON', 'w')\n",
    "description = ['Python:\\n', 'Python is simple.\\n']\n",
    "f.writelines(description)\n",
    "f.close()\n",
    "\n",
    "f = open('PYTHON', 'r')\n",
    "print(f.read())\n",
    "f.close()"
   ]
  },
  {
   "cell_type": "markdown",
   "metadata": {},
   "source": [
    "### <font color= green > Functions seek and tell </font>\n",
    "* **seek()**: to reach desired position in a file\n",
    "<br>Syntax:<br>\n",
    "\n",
    "       seek(offset)\n",
    "       # offset indicates the number of bytes to be moved\n",
    "       # Returns the new absolute position\n",
    "* **tell()**: to find current position of the file object"
   ]
  },
  {
   "cell_type": "code",
   "execution_count": 25,
   "metadata": {},
   "outputs": [
    {
     "name": "stdout",
     "output_type": "stream",
     "text": [
      "Python:\n",
      "\n",
      "After seeking file pointer in the beginning\n",
      "\n",
      "Python:\n",
      "\n"
     ]
    }
   ],
   "source": [
    "f = open('PYTHON','r')\n",
    "print(f.readline())\n",
    "f.seek(0) # Changes the current file position to the begining of the file\n",
    "print('After seeking file pointer in the beginning\\n')\n",
    "print(f.readline())"
   ]
  },
  {
   "cell_type": "code",
   "execution_count": 26,
   "metadata": {},
   "outputs": [
    {
     "data": {
      "text/plain": [
       "'Pyth'"
      ]
     },
     "execution_count": 26,
     "metadata": {},
     "output_type": "execute_result"
    }
   ],
   "source": [
    "f.seek(0)\n",
    "f.read(4)"
   ]
  },
  {
   "cell_type": "code",
   "execution_count": 27,
   "metadata": {},
   "outputs": [
    {
     "data": {
      "text/plain": [
       "4"
      ]
     },
     "execution_count": 27,
     "metadata": {},
     "output_type": "execute_result"
    }
   ],
   "source": [
    "f.tell()"
   ]
  },
  {
   "cell_type": "markdown",
   "metadata": {},
   "source": [
    "## <font color= blue > Error Handling </font>\n",
    "* Error occurs when something goes wrong.\n",
    "* The errors in Python programming may be categorized as:\n",
    "    * Syntax Errors\n",
    "    * Exceptions"
   ]
  },
  {
   "cell_type": "markdown",
   "metadata": {},
   "source": [
    "## <font color= blue > Syntax Error </font>\n",
    "A syntax error occurs when a rule of Python grammar is violated."
   ]
  },
  {
   "cell_type": "code",
   "execution_count": 53,
   "metadata": {},
   "outputs": [
    {
     "ename": "SyntaxError",
     "evalue": "EOL while scanning string literal (<ipython-input-53-5741a0378b6f>, line 1)",
     "output_type": "error",
     "traceback": [
      "\u001b[1;36m  File \u001b[1;32m\"<ipython-input-53-5741a0378b6f>\"\u001b[1;36m, line \u001b[1;32m1\u001b[0m\n\u001b[1;33m    print('Hello)   # missing quote mark at the end of the string\u001b[0m\n\u001b[1;37m                                                                 ^\u001b[0m\n\u001b[1;31mSyntaxError\u001b[0m\u001b[1;31m:\u001b[0m EOL while scanning string literal\n"
     ]
    }
   ],
   "source": [
    "print('Hello)   # missing quote mark at the end of the string"
   ]
  },
  {
   "cell_type": "code",
   "execution_count": 54,
   "metadata": {},
   "outputs": [
    {
     "ename": "SyntaxError",
     "evalue": "invalid syntax (<ipython-input-54-a1c3f00d6a60>, line 1)",
     "output_type": "error",
     "traceback": [
      "\u001b[1;36m  File \u001b[1;32m\"<ipython-input-54-a1c3f00d6a60>\"\u001b[1;36m, line \u001b[1;32m1\u001b[0m\n\u001b[1;33m    for i in range(0, 10)   # missing colon in the for statement\u001b[0m\n\u001b[1;37m                                                                ^\u001b[0m\n\u001b[1;31mSyntaxError\u001b[0m\u001b[1;31m:\u001b[0m invalid syntax\n"
     ]
    }
   ],
   "source": [
    "for i in range(0, 10)   # missing colon in the for statement"
   ]
  },
  {
   "cell_type": "markdown",
   "metadata": {},
   "source": [
    "## <font color= blue > Exceptions </font>\n",
    "* Errors that occur at execution time.  \n",
    "* These errors disrupt the flow of the program at a run-time by terminating the execution at the point of occurrence of the error. \n",
    "* We have noticed that whenever an exception occurs, a Traceback object is displayed which includes error name, <br> its description, and the point of occurrence of the error such as line number."
   ]
  },
  {
   "cell_type": "markdown",
   "metadata": {},
   "source": [
    "### <font color= green > NameError </font>\n",
    "This exception occurs whenever a name that appears in a statement is not found globally."
   ]
  },
  {
   "cell_type": "code",
   "execution_count": 28,
   "metadata": {},
   "outputs": [
    {
     "ename": "NameError",
     "evalue": "name 'Input' is not defined",
     "output_type": "error",
     "traceback": [
      "\u001b[1;31m---------------------------------------------------------------------------\u001b[0m",
      "\u001b[1;31mNameError\u001b[0m                                 Traceback (most recent call last)",
      "\u001b[1;32m<ipython-input-28-e2d0c49b2ae3>\u001b[0m in \u001b[0;36m<module>\u001b[1;34m()\u001b[0m\n\u001b[1;32m----> 1\u001b[1;33m \u001b[0mmarks\u001b[0m \u001b[1;33m=\u001b[0m \u001b[0mInput\u001b[0m\u001b[1;33m(\u001b[0m\u001b[1;34m'Enter your marks'\u001b[0m\u001b[1;33m)\u001b[0m\u001b[1;33m\u001b[0m\u001b[0m\n\u001b[0m",
      "\u001b[1;31mNameError\u001b[0m: name 'Input' is not defined"
     ]
    }
   ],
   "source": [
    "marks = Input('Enter your marks')"
   ]
  },
  {
   "cell_type": "code",
   "execution_count": 30,
   "metadata": {},
   "outputs": [
    {
     "ename": "NameError",
     "evalue": "name 'Price' is not defined",
     "output_type": "error",
     "traceback": [
      "\u001b[1;31m---------------------------------------------------------------------------\u001b[0m",
      "\u001b[1;31mNameError\u001b[0m                                 Traceback (most recent call last)",
      "\u001b[1;32m<ipython-input-30-f01eed036878>\u001b[0m in \u001b[0;36m<module>\u001b[1;34m()\u001b[0m\n\u001b[0;32m      1\u001b[0m \u001b[0mprice\u001b[0m\u001b[1;33m=\u001b[0m\u001b[1;36m10\u001b[0m\u001b[1;33m\u001b[0m\u001b[0m\n\u001b[1;32m----> 2\u001b[1;33m \u001b[0mprint\u001b[0m\u001b[1;33m(\u001b[0m\u001b[0mPrice\u001b[0m\u001b[1;33m)\u001b[0m\u001b[1;33m\u001b[0m\u001b[0m\n\u001b[0m",
      "\u001b[1;31mNameError\u001b[0m: name 'Price' is not defined"
     ]
    }
   ],
   "source": [
    "price=10\n",
    "print(Price) "
   ]
  },
  {
   "cell_type": "markdown",
   "metadata": {},
   "source": [
    "### <font color= green > TypeError </font>\n",
    "This exception occurs when an operation or function is applied to\n",
    "an object of inappropriate type."
   ]
  },
  {
   "cell_type": "code",
   "execution_count": 31,
   "metadata": {},
   "outputs": [
    {
     "ename": "TypeError",
     "evalue": "must be str, not int",
     "output_type": "error",
     "traceback": [
      "\u001b[1;31m---------------------------------------------------------------------------\u001b[0m",
      "\u001b[1;31mTypeError\u001b[0m                                 Traceback (most recent call last)",
      "\u001b[1;32m<ipython-input-31-135c7253899e>\u001b[0m in \u001b[0;36m<module>\u001b[1;34m()\u001b[0m\n\u001b[1;32m----> 1\u001b[1;33m \u001b[1;34m'sum of 2 and 3 is '\u001b[0m \u001b[1;33m+\u001b[0m \u001b[1;36m5\u001b[0m\u001b[1;33m\u001b[0m\u001b[0m\n\u001b[0m",
      "\u001b[1;31mTypeError\u001b[0m: must be str, not int"
     ]
    }
   ],
   "source": [
    "'sum of 2 and 3 is ' + 5"
   ]
  },
  {
   "cell_type": "markdown",
   "metadata": {},
   "source": [
    "### <font color= green > ValueError </font>\n",
    "This exception occurs whenever an inappropriate argument value,\n",
    "even though of correct type, is used in a function call."
   ]
  },
  {
   "cell_type": "code",
   "execution_count": 32,
   "metadata": {},
   "outputs": [
    {
     "ename": "ValueError",
     "evalue": "invalid literal for int() with base 10: 'Hello'",
     "output_type": "error",
     "traceback": [
      "\u001b[1;31m---------------------------------------------------------------------------\u001b[0m",
      "\u001b[1;31mValueError\u001b[0m                                Traceback (most recent call last)",
      "\u001b[1;32m<ipython-input-32-6765ce49acfe>\u001b[0m in \u001b[0;36m<module>\u001b[1;34m()\u001b[0m\n\u001b[1;32m----> 1\u001b[1;33m \u001b[0mint\u001b[0m\u001b[1;33m(\u001b[0m\u001b[1;34m'Hello'\u001b[0m\u001b[1;33m)\u001b[0m\u001b[1;33m\u001b[0m\u001b[0m\n\u001b[0m",
      "\u001b[1;31mValueError\u001b[0m: invalid literal for int() with base 10: 'Hello'"
     ]
    }
   ],
   "source": [
    "int('Hello')"
   ]
  },
  {
   "cell_type": "markdown",
   "metadata": {},
   "source": [
    "### <font color= green > ZeroDivisionError </font>\n",
    "This exception occurs when we try to perform numeric division in which the denominator happens to be zero."
   ]
  },
  {
   "cell_type": "code",
   "execution_count": 33,
   "metadata": {},
   "outputs": [
    {
     "ename": "ZeroDivisionError",
     "evalue": "division by zero",
     "output_type": "error",
     "traceback": [
      "\u001b[1;31m---------------------------------------------------------------------------\u001b[0m",
      "\u001b[1;31mZeroDivisionError\u001b[0m                         Traceback (most recent call last)",
      "\u001b[1;32m<ipython-input-33-5c961f5673b5>\u001b[0m in \u001b[0;36m<module>\u001b[1;34m()\u001b[0m\n\u001b[1;32m----> 1\u001b[1;33m \u001b[1;36m78\u001b[0m\u001b[1;33m/\u001b[0m\u001b[1;33m(\u001b[0m\u001b[1;36m2\u001b[0m\u001b[1;33m+\u001b[0m\u001b[1;36m3\u001b[0m\u001b[1;33m-\u001b[0m\u001b[1;36m5\u001b[0m\u001b[1;33m)\u001b[0m\u001b[1;33m\u001b[0m\u001b[0m\n\u001b[0m",
      "\u001b[1;31mZeroDivisionError\u001b[0m: division by zero"
     ]
    }
   ],
   "source": [
    "78/(2+3-5)"
   ]
  },
  {
   "cell_type": "markdown",
   "metadata": {},
   "source": [
    "### <font color= green > OSError </font>\n",
    "This exception occurs whenever there is an error related to input/output. "
   ]
  },
  {
   "cell_type": "code",
   "execution_count": 34,
   "metadata": {},
   "outputs": [
    {
     "ename": "FileNotFoundError",
     "evalue": "[Errno 2] No such file or directory: 'passwordFile.txt'",
     "output_type": "error",
     "traceback": [
      "\u001b[1;31m---------------------------------------------------------------------------\u001b[0m",
      "\u001b[1;31mFileNotFoundError\u001b[0m                         Traceback (most recent call last)",
      "\u001b[1;32m<ipython-input-34-880578fe47b9>\u001b[0m in \u001b[0;36m<module>\u001b[1;34m()\u001b[0m\n\u001b[0;32m      1\u001b[0m \u001b[1;31m# opening a non-existent file for reading or reading a file opened in write mode\u001b[0m\u001b[1;33m\u001b[0m\u001b[1;33m\u001b[0m\u001b[0m\n\u001b[1;32m----> 2\u001b[1;33m \u001b[0mf\u001b[0m \u001b[1;33m=\u001b[0m \u001b[0mopen\u001b[0m\u001b[1;33m(\u001b[0m\u001b[1;34m'passwordFile.txt'\u001b[0m\u001b[1;33m)\u001b[0m\u001b[1;33m\u001b[0m\u001b[0m\n\u001b[0m",
      "\u001b[1;31mFileNotFoundError\u001b[0m: [Errno 2] No such file or directory: 'passwordFile.txt'"
     ]
    }
   ],
   "source": [
    "# opening a non-existent file for reading or reading a file opened in write mode\n",
    "f = open('passwordFile.txt')"
   ]
  },
  {
   "cell_type": "markdown",
   "metadata": {},
   "source": [
    "### <font color= green > IndexError </font>\n",
    "This exception occurs whenever we try to access an index that is out of a valid range."
   ]
  },
  {
   "cell_type": "code",
   "execution_count": 35,
   "metadata": {},
   "outputs": [],
   "source": [
    "colors = ['red', 'green', 'blue']"
   ]
  },
  {
   "cell_type": "code",
   "execution_count": 36,
   "metadata": {},
   "outputs": [
    {
     "ename": "IndexError",
     "evalue": "list index out of range",
     "output_type": "error",
     "traceback": [
      "\u001b[1;31m---------------------------------------------------------------------------\u001b[0m",
      "\u001b[1;31mIndexError\u001b[0m                                Traceback (most recent call last)",
      "\u001b[1;32m<ipython-input-36-1f89a8f1c888>\u001b[0m in \u001b[0;36m<module>\u001b[1;34m()\u001b[0m\n\u001b[1;32m----> 1\u001b[1;33m \u001b[0mcolors\u001b[0m\u001b[1;33m[\u001b[0m\u001b[1;36m4\u001b[0m\u001b[1;33m]\u001b[0m\u001b[1;33m\u001b[0m\u001b[0m\n\u001b[0m",
      "\u001b[1;31mIndexError\u001b[0m: list index out of range"
     ]
    }
   ],
   "source": [
    "colors[4]"
   ]
  },
  {
   "cell_type": "markdown",
   "metadata": {},
   "source": [
    "## <font color= blue > Problem: Copying contents of a file to another file </font>"
   ]
  },
  {
   "cell_type": "code",
   "execution_count": 41,
   "metadata": {},
   "outputs": [
    {
     "name": "stdout",
     "output_type": "stream",
     "text": [
      "Enter the source file name: studentMarks\n",
      "Enter the destination file name : test\n"
     ]
    }
   ],
   "source": [
    "import os\n",
    "\n",
    "def fileCopy(file1,file2):\n",
    "    '''\n",
    "    Objective: This method copies the contents in a file to another file\n",
    "    Input Parameter: file1 - input file, file2 - output file\n",
    "    Return Value: None\n",
    "    '''\n",
    "    '''\n",
    "    Approach:\n",
    "    Read input from file1, line by line and copy to file2 until\n",
    "    null string is returned on reading\n",
    "    '''\n",
    "    f1 = open(file1, 'r')\n",
    "    f2 = open(file2, 'w')\n",
    "    line = f1.readline()\n",
    "    while line != '':\n",
    "        f2.write(line) #write the line from f1 with additional newline\n",
    "        line = f1.readline()\n",
    "    f1.close()\n",
    "    f2.close()\n",
    "\n",
    "def main():\n",
    "    '''\n",
    "    Objective: To call function fileCopy to copy contents in a file to another file.\n",
    "    Input Parameter: None\n",
    "    Return Value: None\n",
    "    '''\n",
    "    fileName1=input('Enter the source file name: ')\n",
    "    fileName2=input('Enter the destination file name : ')\n",
    "    fileCopy(fileName1, fileName2)\n",
    "\n",
    "if __name__ == '__main__':\n",
    "    main()"
   ]
  },
  {
   "cell_type": "markdown",
   "metadata": {},
   "source": [
    "## <font color= blue > Computing moderated marks </font>\n",
    "* The file studentMarks contains the student data that includes roll number (rollNo), name (name), and marks (marks) for each student. \n",
    "* The data about each student is stored in a separate line. Sample data in the file is shown below:\n",
    "\n",
    "        4001,Nitin Negi,75\n",
    "        4002,Kishalaya Sen,98\n",
    "        4003,Kunal Dua,80\n",
    "        4004,Prashant Sharma,60\n",
    "        4005,Saurav Sharma,88\n",
    "\n",
    "* We define addPerCent as the percentage of maxMarks that should be added to the marks obtained to get the moderated marks, subject to the upper limit of maxMarks. \n",
    "* The output file moderatedMarks containing moderated marks of the students\n",
    "\n",
    "> 1. Open file studentMarks in read mode.\n",
    "> 2. Open file moderatedMarks in write mode.\n",
    "> 3. Read one line of input (line1) from studentMarks.\n",
    "> 4. while (line1 != ''):<br>\n",
    "    >• Compute moderated marks and write one line of output in the file\n",
    "moderatedMarks.<br>\n",
    "    >• Read one line of input (line1) from studentMarks."
   ]
  },
  {
   "cell_type": "markdown",
   "metadata": {},
   "source": [
    "## <font color= blue > Problem: Compute moderated marks based on user input </font>"
   ]
  },
  {
   "cell_type": "code",
   "execution_count": 1,
   "metadata": {},
   "outputs": [
    {
     "name": "stdout",
     "output_type": "stream",
     "text": [
      "Enter name of file containing marks:studentMarks\n",
      "Enter output file for moderated marks:moderatedMarks\n",
      "Enter moderation percentage:10\n"
     ]
    }
   ],
   "source": [
    "import sys\n",
    "def computeModeratedMarks(file1, file2, addPercent):\n",
    "    '''\n",
    "    Objective: To compute moderated marks of students\n",
    "    Input Parameters: file1, file2: file names - string values\n",
    "                      addPercent – numeric value\n",
    "    Return Value: None\n",
    "    Side effect: A new file – file2 of moderated marks is produced\n",
    "    '''\n",
    "    try:\n",
    "        fIn = open(file1, 'r')\n",
    "        fOut = open(file2,'w')\n",
    "    except IOError:\n",
    "        print('Problem in opening the file'); sys.exit()\n",
    "    line1 = fIn.readline()\n",
    "    while(line1 != ''):\n",
    "        sList = line1.split(',')\n",
    "        try:\n",
    "            rollNo = int(sList[0])\n",
    "            name = sList[1]\n",
    "            marks = int(sList[2])\n",
    "        except IndexError:\n",
    "            print('Undefined Index'); sys.exit()\n",
    "        except (ValueError):\n",
    "            print('Unsuccessful conversion to int'); sys.exit()\n",
    "        maxMarks= 100\n",
    "        moderatedMarks = marks+((addPercent*maxMarks) /100)\n",
    "        if moderatedMarks > 100:\n",
    "            moderatedMarks = 100\n",
    "        fOut.write(str(rollNo) + ',' + name + ',' +\\\n",
    "        str(moderatedMarks) + '\\n')\n",
    "        line1 = fIn.readline()\n",
    "    fIn.close()\n",
    "    fOut.close()\n",
    "def main():\n",
    "    '''\n",
    "    Objective: To compute moderated marks based on user input\n",
    "    Input Parameter: None\n",
    "    Return Value: None\n",
    "    '''\n",
    "    import sys\n",
    "    sys.path.append('F:\\PythonCode\\Ch09')\n",
    "    # To compute moderated marks of students\n",
    "    file1 = input('Enter name of file containing marks:')\n",
    "    file2 = input('Enter output file for moderated marks:')\n",
    "    addPercent = int(input('Enter moderation percentage:'))\n",
    "    computeModeratedMarks(file1, file2, addPercent)\n",
    "if __name__=='__main__':\n",
    "    main()"
   ]
  }
 ],
 "metadata": {
  "celltoolbar": "Raw Cell Format",
  "kernelspec": {
   "display_name": "Python 3",
   "language": "python",
   "name": "python3"
  },
  "language_info": {
   "codemirror_mode": {
    "name": "ipython",
    "version": 3
   },
   "file_extension": ".py",
   "mimetype": "text/x-python",
   "name": "python",
   "nbconvert_exporter": "python",
   "pygments_lexer": "ipython3",
   "version": "3.6.4"
  }
 },
 "nbformat": 4,
 "nbformat_minor": 2
}
