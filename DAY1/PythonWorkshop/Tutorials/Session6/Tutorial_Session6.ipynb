{
 "cells": [
  {
   "cell_type": "markdown",
   "metadata": {},
   "source": [
    "# <font color= blue > CLASSES </font>\n",
    "* A class is a template that provides a logical grouping of data and methods that operate on them. \n",
    "* Instances of a class are called objects.\n",
    "* Data and methods associated with a class are collectively known as class attributes."
   ]
  },
  {
   "cell_type": "markdown",
   "metadata": {},
   "source": [
    "## <font color= blue > Classes and Objects </font>\n",
    "* Variables used so far took values of types (also called classes) string (str), integer (int), <br> floating point (float), Boolean (bool), list, tuple, or dictionary (dict).\n"
   ]
  },
  {
   "cell_type": "code",
   "execution_count": 3,
   "metadata": {},
   "outputs": [
    {
     "name": "stdout",
     "output_type": "stream",
     "text": [
      "<class 'int'> <class 'float'> <class 'str'>\n"
     ]
    }
   ],
   "source": [
    "print(type(12), type(12.5), type('hello'))"
   ]
  },
  {
   "cell_type": "markdown",
   "metadata": {},
   "source": [
    "** Accessing attribute of an instance of class** <br>\n",
    "* To specify an attribute of a class (or class instance), we write the name of the class (or class instance) <br> followed by a dot, followed by the name of that attribute. <br>\n",
    "The method **lower** defined in class **str** has been invoked for the object **name**. "
   ]
  },
  {
   "cell_type": "code",
   "execution_count": 4,
   "metadata": {},
   "outputs": [
    {
     "name": "stdout",
     "output_type": "stream",
     "text": [
      "raman\n"
     ]
    }
   ],
   "source": [
    "name = 'Raman'\n",
    "lname = name.lower()\n",
    "print(lname)"
   ]
  },
  {
   "cell_type": "markdown",
   "metadata": {},
   "source": [
    "**Alternative way of invoking the method associated with an instance of class**: <br>\n",
    "* Specify the name of the class (str), followed by the dot operator (.), followed by the name of the <br> method (lower), followed by an object (name). The object name being an argument is enclosed in parentheses."
   ]
  },
  {
   "cell_type": "code",
   "execution_count": 5,
   "metadata": {},
   "outputs": [
    {
     "name": "stdout",
     "output_type": "stream",
     "text": [
      "raman\n"
     ]
    }
   ],
   "source": [
    "lname = str.lower(name)\n",
    "print(lname)"
   ]
  },
  {
   "cell_type": "markdown",
   "metadata": {},
   "source": [
    "---\n",
    "## <font color= blue > PERSON class </font>\n",
    "\n",
    "### <font color= green > Syntax of Class Definiton </font>\n",
    "\n",
    "A class definition begins with the keyword class followed by the name of the class, and a colon. By convention, the first letter of the class name is capitalized. The syntax for class definition is as follows:\n",
    "\n",
    "    class ClassName:\n",
    "        classBody\n",
    "        \n",
    "        \n",
    "### <font color= green > Operations supported by classes: </font>\n",
    "1. **Instantiation**: It refers to the creation of an object, i.e. an instance of the class.\n",
    "2. **Attribute references**: Methods and data members of an object of a class are accessed using the notation: name of the object, followed by dot operator, followed by the member name.\n"
   ]
  },
  {
   "cell_type": "code",
   "execution_count": 5,
   "metadata": {},
   "outputs": [],
   "source": [
    "class Person:\n",
    "    ''' The class Person describes a person'''\n",
    "    count = 0\n",
    "    def __init__(self, name, DOB, address):\n",
    "        '''\n",
    "        Objective: To initialize object of class Person\n",
    "        Input Parameters:\n",
    "            self (implicit parameter) - object of type Person\n",
    "            name - string\n",
    "            DOB - string (Date of Birth)\n",
    "            address - string\n",
    "        Return Value: None\n",
    "        '''\n",
    "        self.name = name\n",
    "        self.DOB = DOB\n",
    "        self.address = address\n",
    "        Person.count += 1\n",
    "\n",
    "    def getName(self):\n",
    "        '''\n",
    "        Objective: To retrieve name of the person\n",
    "        Input Parameter: self (implicit parameter) - object of type Person\n",
    "        Return Value: name - string\n",
    "        '''\n",
    "        return self.name\n",
    "\n",
    "    def getDOB(self):\n",
    "        '''\n",
    "        Objective: To retrieve the date of birth of a person\n",
    "        Input Parameter: self (implicit parameter) - object of type Person\n",
    "        Return Value: DOB - string\n",
    "        '''\n",
    "        return self.DOB\n",
    "\n",
    "    def getAddress(self):\n",
    "        '''\n",
    "        Objective: To retrieve address of person\n",
    "        Input Parameter: self (implicit parameter) - object of type Person\n",
    "        Return Value: address - string\n",
    "        '''\n",
    "        return self.address\n",
    "\n",
    "    def getCount(self):\n",
    "        '''\n",
    "        Objective: To get count of objects of type Person\n",
    "        Input Parameter: self (implicit parameter) - object of type Person\n",
    "        Return Value: count: numeric\n",
    "        '''\n",
    "        return Person.count\n",
    "\n",
    "    def __str__(self):\n",
    "        '''\n",
    "        Objective: To return string representation of object of type Person\n",
    "        Input Parameter: self (implicit parameter)- object of type\n",
    "        Person\n",
    "        Return Value: string\n",
    "        '''\n",
    "        return 'Name:'+self.name+'\\nDOB:'+str(self.DOB)\\\n",
    "        +'\\nAddress:'+self.address\n"
   ]
  },
  {
   "cell_type": "markdown",
   "metadata": {},
   "source": [
    "### <font color= green > Creating an instance of class Person  </font>"
   ]
  },
  {
   "cell_type": "code",
   "execution_count": 6,
   "metadata": {},
   "outputs": [
    {
     "name": "stdout",
     "output_type": "stream",
     "text": [
      "1\n"
     ]
    }
   ],
   "source": [
    "p1 = Person('Amir','24-10-1990','38/4, IIT Delhi 110016')\n",
    "print(Person.count)"
   ]
  },
  {
   "cell_type": "markdown",
   "metadata": {},
   "source": [
    "The execution of the above statement does three things:\n",
    "1. Creates an instance of class Person\n",
    "2. Initializes it by invoking the method **\\_\\_init\\_\\_** defined in lines\n",
    "3. Returns a reference to it, so the name p1 now refers to the instance of the class Person that has just been created\n",
    "\n",
    "By default, Python passes object itself (such as p1) as the first argument to the method **\\_\\_init\\_\\_**."
   ]
  },
  {
   "cell_type": "markdown",
   "metadata": {},
   "source": [
    "### <font color= green > Instance p1 of class Person </font>"
   ]
  },
  {
   "cell_type": "markdown",
   "metadata": {},
   "source": [
    "<div style=\"width: 700px;\"> ![](1.png) </div>"
   ]
  },
  {
   "cell_type": "markdown",
   "metadata": {},
   "source": [
    "\n",
    "### <font color= green > Printing an instance of class </font>\n",
    "\n",
    "Python invokes **\\_\\_str\\_\\_** method of the corresponding class to obtain a string representation of the object\n"
   ]
  },
  {
   "cell_type": "code",
   "execution_count": 61,
   "metadata": {},
   "outputs": [
    {
     "name": "stdout",
     "output_type": "stream",
     "text": [
      "7\n",
      "7\n",
      "7\n"
     ]
    }
   ],
   "source": [
    "print(7)\n",
    "# OR\n",
    "print(int.__str__(7))\n",
    "print(str(7))"
   ]
  },
  {
   "cell_type": "code",
   "execution_count": 151,
   "metadata": {},
   "outputs": [
    {
     "name": "stdout",
     "output_type": "stream",
     "text": [
      "Name:Amir\n",
      "DOB:24-10-1990\n",
      "Address:38/4, IIT Delhi 110016\n",
      "*****************\n",
      "Name:Amir\n",
      "DOB:24-10-1990\n",
      "Address:38/4, IIT Delhi 110016\n",
      "*****************\n",
      "Name:Amir\n",
      "DOB:24-10-1990\n",
      "Address:38/4, IIT Delhi 110016\n",
      "*****************\n",
      "Name:Amir\n",
      "DOB:24-10-1990\n",
      "Address:38/4, IIT Delhi 110016\n"
     ]
    }
   ],
   "source": [
    "print(p1)\n",
    "print('*****************')\n",
    "print(p1.__str__())\n",
    "print('*****************')\n",
    "print(Person.__str__(p1))\n",
    "print('*****************')\n",
    "print(str(p1))"
   ]
  },
  {
   "cell_type": "code",
   "execution_count": 63,
   "metadata": {},
   "outputs": [
    {
     "data": {
      "text/plain": [
       "'24-10-1990'"
      ]
     },
     "execution_count": 63,
     "metadata": {},
     "output_type": "execute_result"
    }
   ],
   "source": [
    "p1.getDOB()"
   ]
  },
  {
   "cell_type": "markdown",
   "metadata": {},
   "source": [
    "### <font color= green > List of attributes of the object </font>"
   ]
  },
  {
   "cell_type": "code",
   "execution_count": 64,
   "metadata": {},
   "outputs": [
    {
     "data": {
      "text/plain": [
       "['DOB',\n",
       " '__class__',\n",
       " '__delattr__',\n",
       " '__dict__',\n",
       " '__dir__',\n",
       " '__doc__',\n",
       " '__eq__',\n",
       " '__format__',\n",
       " '__ge__',\n",
       " '__getattribute__',\n",
       " '__gt__',\n",
       " '__hash__',\n",
       " '__init__',\n",
       " '__init_subclass__',\n",
       " '__le__',\n",
       " '__lt__',\n",
       " '__module__',\n",
       " '__ne__',\n",
       " '__new__',\n",
       " '__reduce__',\n",
       " '__reduce_ex__',\n",
       " '__repr__',\n",
       " '__setattr__',\n",
       " '__sizeof__',\n",
       " '__str__',\n",
       " '__subclasshook__',\n",
       " '__weakref__',\n",
       " 'address',\n",
       " 'count',\n",
       " 'getAddress',\n",
       " 'getCount',\n",
       " 'getDOB',\n",
       " 'getName',\n",
       " 'name']"
      ]
     },
     "execution_count": 64,
     "metadata": {},
     "output_type": "execute_result"
    }
   ],
   "source": [
    "dir(p1)"
   ]
  },
  {
   "cell_type": "markdown",
   "metadata": {},
   "source": [
    "### <font color= green > Deleting an object of class Person </font>"
   ]
  },
  {
   "cell_type": "code",
   "execution_count": 7,
   "metadata": {},
   "outputs": [],
   "source": [
    "def __del__(self):\n",
    "    '''\n",
    "    Objective: To be invoked on deletion of an instance of the\n",
    "    class Person\n",
    "    Input Parameter:\n",
    "    self (implicit parameter) – object of type Person\n",
    "    Return Value: None\n",
    "    '''\n",
    "    print('Deleted !!')\n",
    "    Person.count -= 1"
   ]
  },
  {
   "cell_type": "code",
   "execution_count": 8,
   "metadata": {},
   "outputs": [],
   "source": [
    "p1.__del__ = __del__"
   ]
  },
  {
   "cell_type": "code",
   "execution_count": 9,
   "metadata": {},
   "outputs": [],
   "source": [
    "del p1"
   ]
  },
  {
   "cell_type": "code",
   "execution_count": 10,
   "metadata": {},
   "outputs": [
    {
     "ename": "NameError",
     "evalue": "name 'p1' is not defined",
     "output_type": "error",
     "traceback": [
      "\u001b[1;31m---------------------------------------------------------------------------\u001b[0m",
      "\u001b[1;31mNameError\u001b[0m                                 Traceback (most recent call last)",
      "\u001b[1;32m<ipython-input-10-71a0f0e933fe>\u001b[0m in \u001b[0;36m<module>\u001b[1;34m()\u001b[0m\n\u001b[1;32m----> 1\u001b[1;33m \u001b[0mprint\u001b[0m\u001b[1;33m(\u001b[0m\u001b[0mp1\u001b[0m\u001b[1;33m)\u001b[0m\u001b[1;33m\u001b[0m\u001b[0m\n\u001b[0m",
      "\u001b[1;31mNameError\u001b[0m: name 'p1' is not defined"
     ]
    }
   ],
   "source": [
    "print(p1)"
   ]
  },
  {
   "cell_type": "markdown",
   "metadata": {},
   "source": [
    "---\n",
    "## <font color= blue > Inheritance </font>\n",
    "* Inheritance is an important feature of object oriented programming that imparts ability to a class to inherit properties and behavior of another class\n",
    "<div style=\"width: 150px;\"> ![](2.png) </div>\n",
    "* In the language of Object-oriented Programming (OOP), we say\n",
    "that Employee class inherits or derives the data and method attributes from the Person class. \n",
    "* Here, Person class is called base, super, or parent class, and Employee class is called derived, sub, or child class."
   ]
  },
  {
   "cell_type": "markdown",
   "metadata": {},
   "source": [
    "### <font color= green > Single Inheritance </font>\n",
    "* When inheritance involves a derived class that derives its properties from a single base class, it is called **single inheritance**"
   ]
  },
  {
   "cell_type": "code",
   "execution_count": 36,
   "metadata": {},
   "outputs": [],
   "source": [
    "class Employee(Person):\n",
    "    nextId = 1001\n",
    "    empCount = 0\n",
    "\n",
    "    def __init__(self, name, DOB, address, basicSalary, dateOfJoining):\n",
    "        '''\n",
    "        Objective: To initialize an object of class Employee\n",
    "        Input Parameters:\n",
    "            self (implicit parameter) – object of type Employee\n",
    "            name - string, address – string\n",
    "            DOB - Date of Birth – object of type MyDate\n",
    "            basicSalary - numeric value\n",
    "            dateOfJoining – object of type MyDate\n",
    "        Return Value: None\n",
    "        '''\n",
    "        Person.__init__(self, name, DOB, address)\n",
    "        self.idNum = Employee.nextId\n",
    "        self.basicSalary = basicSalary\n",
    "        self.dateOfJoining = dateOfJoining\n",
    "        Employee.nextId += 1\n",
    "        Employee.empCount += 1\n",
    "\n",
    "    def getId(self):\n",
    "        '''\n",
    "        Objective: To retrieve id of the Employee\n",
    "        Input Parameter: self (implicit parameter)– object of type Employee\n",
    "        Return Value: id - numeric value\n",
    "        '''\n",
    "        return self.idNum\n",
    "\n",
    "    def getSalary(self):\n",
    "        '''\n",
    "        Objective: To retrieve salary of the Employee\n",
    "        Input Parameter: self (implicit parameter) - object of type Employee\n",
    "        Return Value: basicSalary - numeric value\n",
    "        '''\n",
    "        return self.basicSalary\n",
    "\n",
    "    def reviseSalary(self, newSalary):\n",
    "        '''\n",
    "        Objective: To update salary of the Employee\n",
    "        Input Parameters: self (implicit parameter) - object of type Employee\n",
    "        newSalary - numeric value\n",
    "        Return Value: None\n",
    "        '''\n",
    "        self.basicSalary = newSalary\n",
    "\n",
    "    def getJoiningDate(self):\n",
    "        '''\n",
    "        Objective: To retrieve joining date of the Employee\n",
    "        Input Parameter: self (implicit parameter) - object of type Employee\n",
    "        Return Value: dateOfJoining - object of type MyDate\n",
    "        '''\n",
    "        return self.dateOfJoining\n",
    "\n",
    "    def __str__(self):\n",
    "        '''\n",
    "        Objective: To return string representation of object of type\n",
    "        Employee.\n",
    "        Input Parameter: self (implicit parameter) - object of type Employee\n",
    "        Return Value: string\n",
    "        '''\n",
    "        return Person.__str__(self)+'\\nId:'+str(self.getId())+\\\n",
    "            '\\nSalary:'+str(self.getSalary())+\\\n",
    "            '\\nDate of Joining:'+str(self.getJoiningDate())"
   ]
  },
  {
   "cell_type": "code",
   "execution_count": 37,
   "metadata": {},
   "outputs": [],
   "source": [
    "emp1 = Employee('Rehman', '5 June 1990', ' D-9, Vivek Vihar, Delhi', 50000, '2 August 2013')"
   ]
  },
  {
   "cell_type": "code",
   "execution_count": 38,
   "metadata": {},
   "outputs": [
    {
     "name": "stdout",
     "output_type": "stream",
     "text": [
      "1\n"
     ]
    }
   ],
   "source": [
    "print(Employee.empCount)"
   ]
  },
  {
   "cell_type": "markdown",
   "metadata": {},
   "source": [
    "* Call to the method __init__ is made using a superclass name and the object instance is explicitly passed as an argument to the superclass method. \n",
    "* Alternatively, we may use the **super** function to access a method of the superclass.\n",
    "\n",
    "        super(Employee, self).__init__(name, DOB, address)\n",
    "        super().__init__(name, DOB, address)\n"
   ]
  },
  {
   "cell_type": "markdown",
   "metadata": {},
   "source": [
    "---\n",
    "## <font color= blue > 5. Built-in Functions for Classes </font>"
   ]
  },
  {
   "cell_type": "markdown",
   "metadata": {},
   "source": [
    "### <font color= green > Function issubclass </font>\n",
    "* The function issubclass returns True if sub is the subclass of class super, and False otherwise.\n",
    "\n",
    "        issubclass(sub, super)"
   ]
  },
  {
   "cell_type": "code",
   "execution_count": 146,
   "metadata": {},
   "outputs": [
    {
     "data": {
      "text/plain": [
       "True"
      ]
     },
     "execution_count": 146,
     "metadata": {},
     "output_type": "execute_result"
    }
   ],
   "source": [
    "issubclass(Employee, Person)"
   ]
  },
  {
   "cell_type": "markdown",
   "metadata": {},
   "source": [
    "### <font color= green > Function isinstance </font>\n",
    "* The function isinstance returns True if either obj is an instance of class class1 or it is an instance of a subclass of class class1.\n",
    "\n",
    "        isinstance(obj, class1)"
   ]
  },
  {
   "cell_type": "code",
   "execution_count": 147,
   "metadata": {},
   "outputs": [
    {
     "data": {
      "text/plain": [
       "True"
      ]
     },
     "execution_count": 147,
     "metadata": {},
     "output_type": "execute_result"
    }
   ],
   "source": [
    "isinstance(emp1, Person)"
   ]
  },
  {
   "cell_type": "markdown",
   "metadata": {},
   "source": [
    "### <font color= green > Function hasattr </font>\n",
    "* The function hasattr returns True if instance obj contains an attribute attr, and False otherwise.\n",
    "\n",
    "        hasattr(obj, attr)"
   ]
  },
  {
   "cell_type": "code",
   "execution_count": 149,
   "metadata": {},
   "outputs": [
    {
     "data": {
      "text/plain": [
       "True"
      ]
     },
     "execution_count": 149,
     "metadata": {},
     "output_type": "execute_result"
    }
   ],
   "source": [
    "hasattr(emp1, 'dateOfJoining')"
   ]
  },
  {
   "cell_type": "code",
   "execution_count": null,
   "metadata": {},
   "outputs": [],
   "source": []
  }
 ],
 "metadata": {
  "celltoolbar": "Raw Cell Format",
  "kernelspec": {
   "display_name": "Python 3",
   "language": "python",
   "name": "python3"
  },
  "language_info": {
   "codemirror_mode": {
    "name": "ipython",
    "version": 3
   },
   "file_extension": ".py",
   "mimetype": "text/x-python",
   "name": "python",
   "nbconvert_exporter": "python",
   "pygments_lexer": "ipython3",
   "version": "3.6.4"
  }
 },
 "nbformat": 4,
 "nbformat_minor": 2
}
